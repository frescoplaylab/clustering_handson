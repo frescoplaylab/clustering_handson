{
 "cells": [
  {
   "cell_type": "markdown",
   "metadata": {},
   "source": [
    "**Run the Cell to import the packages**\n"
   ]
  },
  {
   "cell_type": "code",
   "execution_count": 1,
   "metadata": {},
   "outputs": [],
   "source": [
    "import numpy as np\n",
    "import pandas as pd\n",
    "import matplotlib.pyplot as plt"
   ]
  },
  {
   "cell_type": "markdown",
   "metadata": {},
   "source": [
    "**Fill in the Command to load your CSV dataset \"CLV.csv\" with pandas**"
   ]
  },
  {
   "cell_type": "code",
   "execution_count": 2,
   "metadata": {},
   "outputs": [],
   "source": [
    "#load dataset\n",
    "dataset="
   ]
  },
  {
   "cell_type": "markdown",
   "metadata": {},
   "source": [
    "**Print your dataset**\n",
    "\n",
    "\n",
    "Expected Output:\n",
    "\n",
    "\n",
    "| Index |INCOME|SPEND |\n",
    "| ------ | ------ | ------ |\n",
    "| 0 | 233 | 150 |\n",
    "| 1 | 250 | 187 |\n",
    "| 2 | 204 | 187 |\n",
    "\n"
   ]
  },
  {
   "cell_type": "code",
   "execution_count": 11,
   "metadata": {},
   "outputs": [],
   "source": [
    "#printdataset\n",
    "\n",
    "\n"
   ]
  },
  {
   "cell_type": "markdown",
   "metadata": {},
   "source": [
    "**Following cell declares X as an 2 D array containing Income and Spent amount. Run the following cell to see the output**"
   ]
  },
  {
   "cell_type": "code",
   "execution_count": 4,
   "metadata": {},
   "outputs": [],
   "source": [
    "# X array\n",
    "\n",
    "X=dataset.iloc[:,[0,1]].values\n",
    "X"
   ]
  },
  {
   "cell_type": "markdown",
   "metadata": {},
   "source": [
    "- Do the `KMeans` clustering of the Dataset using the following parameters.\n",
    "   - no.ofclusters=3\n",
    "   - maximum iteration=300\n",
    "   - init as `k-means++` \n",
    "   - n_init = 1 \n",
    "   - random_state=0\n",
    "   \n",
    "\n",
    "- Pass the parameter `X` to the method fit_predict().\n",
    "\n",
    "*Expected outcome*:\n",
    "\n",
    "array([1, 1, 2, 1, 0,.... 2,dtype=int32)"
   ]
  },
  {
   "cell_type": "code",
   "execution_count": 10,
   "metadata": {},
   "outputs": [],
   "source": [
    "\n",
    "from sklearn.cluster import KMeans\n",
    "##Fitting kmeans to the dataset\n",
    "km=KMeans(         )     \n",
    "\n",
    "\n",
    "y_means = km.fit_predict(    )\n",
    "y_means\n",
    "\n",
    "with open('output.txt', 'w') as file:\n",
    "    file.write(str(np.mean(y_means)))\n"
   ]
  },
  {
   "cell_type": "code",
   "execution_count": null,
   "metadata": {},
   "outputs": [],
   "source": []
  }
 ],
 "metadata": {
  "kernelspec": {
   "display_name": "Python 3",
   "language": "python",
   "name": "python3"
  },
  "language_info": {
   "codemirror_mode": {
    "name": "ipython",
    "version": 3
   },
   "file_extension": ".py",
   "mimetype": "text/x-python",
   "name": "python",
   "nbconvert_exporter": "python",
   "pygments_lexer": "ipython3",
   "version": "3.6.4"
  }
 },
 "nbformat": 4,
 "nbformat_minor": 2
}
