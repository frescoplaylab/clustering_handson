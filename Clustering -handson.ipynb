{
 "cells": [
  {
   "cell_type": "markdown",
   "metadata": {},
   "source": [
    "**Run the Cell to import the packages**\n"
   ]
  },
  {
   "cell_type": "code",
   "execution_count": 21,
   "metadata": {},
   "outputs": [],
   "source": [
    "import numpy as np\n",
    "import pandas as pd\n",
    "import matplotlib.pyplot as plt"
   ]
  },
  {
   "cell_type": "markdown",
   "metadata": {},
   "source": [
    "**Load your CSV dataset with pandas**"
   ]
  },
  {
   "cell_type": "code",
   "execution_count": 22,
   "metadata": {},
   "outputs": [],
   "source": [
    "#Read the CSV dataset using pandas \n",
    "dataset=\n",
    "\n",
    "\n",
    "\n",
    "\n",
    "\n",
    "\n"
   ]
  },
  {
   "cell_type": "markdown",
   "metadata": {},
   "source": [
    "**Print your dataset**\n",
    "\n",
    "\n",
    "Expected Output:\n",
    "\n",
    "\n",
    "| Index |INCOME|SPEND |\n",
    "| ------ | ------ | ------ |\n",
    "| 0 | 233 | 150 |\n",
    "| 1 | 250 | 187 |\n",
    "| 2 | 204 | 187 |\n",
    "\n"
   ]
  },
  {
   "cell_type": "code",
   "execution_count": null,
   "metadata": {},
   "outputs": [],
   "source": [
    "#printdataset\n",
    "\n",
    "\n",
    "\n"
   ]
  },
  {
   "cell_type": "markdown",
   "metadata": {},
   "source": [
    "**Run the Cell to visualise your Data**\n"
   ]
  },
  {
   "cell_type": "code",
   "execution_count": null,
   "metadata": {},
   "outputs": [],
   "source": [
    "#Plot styling\n",
    "import seaborn as sns; sns.set()  # for plot styling\n",
    "%matplotlib inline\n",
    "\n",
    "plt.rcParams['figure.figsize'] = (16, 9)\n",
    "plt.style.use('ggplot')\n",
    "#Visualising the data\n",
    "plot_income = sns.distplot(dataset[\"INCOME\"])\n",
    "plot_spend = sns.distplot(dataset[\"SPEND\"])\n",
    "plt.xlabel('Income / spend')\n"
   ]
  },
  {
   "cell_type": "markdown",
   "metadata": {},
   "source": [
    "**Run cell which declares X as an 2 D array containing Income and Spent amount**"
   ]
  },
  {
   "cell_type": "code",
   "execution_count": 20,
   "metadata": {},
   "outputs": [],
   "source": [
    "# X array\n",
    "\n",
    "X=dataset.iloc[:,[0,1]].values\n"
   ]
  },
  {
   "cell_type": "markdown",
   "metadata": {},
   "source": [
    "- Do the KMeans clustering of the Dataset using the parameters (*no.ofclusters=3, maximum iteration=300, init as `k-means++` Number_of_times KMeans algorithm runs(n_init) = 1 and random_state=0*)and assign it to variable \n",
    "\n",
    "- Use the method fit_predict() on the resulting variable of the previous step and return to variable **y_means**\n",
    "\n",
    "*Expected outcome*:\n",
    "\n",
    "     array([1, 1, 2, 1, 0,.... 2,dtype=int32)"
   ]
  },
  {
   "cell_type": "code",
   "execution_count": 32,
   "metadata": {},
   "outputs": [],
   "source": [
    "##Fitting  kmeans to the dataset\n",
    "\n",
    "\n",
    "\n",
    "\n",
    "\n",
    "\n",
    "y_means =\n",
    "\n",
    "with open('output.txt', 'w') as file:\n",
    "    file.write(str(np.mean(y_means)))\n"
   ]
  },
  {
   "cell_type": "code",
   "execution_count": null,
   "metadata": {},
   "outputs": [],
   "source": []
  }
 ],
 "metadata": {
  "kernelspec": {
   "display_name": "Python 3",
   "language": "python",
   "name": "python3"
  },
  "language_info": {
   "codemirror_mode": {
    "name": "ipython",
    "version": 3
   },
   "file_extension": ".py",
   "mimetype": "text/x-python",
   "name": "python",
   "nbconvert_exporter": "python",
   "pygments_lexer": "ipython3",
   "version": "3.6.4"
  }
 },
 "nbformat": 4,
 "nbformat_minor": 2
}
